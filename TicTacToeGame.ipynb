{
 "cells": [
  {
   "cell_type": "code",
   "execution_count": 1,
   "metadata": {},
   "outputs": [],
   "source": [
    "#function that can print out a board\n",
    "\n",
    "from IPython.display import clear_output\n",
    "\n",
    "def display_board(board):\n",
    "    \n",
    "    clear_output()\n",
    "    \n",
    "    print(board[7] + '|' + board[8] + '|' + board[9])\n",
    "    print('-----')\n",
    "    print(board[4] + '|' + board[5] + '|' + board[6])\n",
    "    print('-----')\n",
    "    print(board[1] + '|' + board[2] + '|' + board[3])"
   ]
  },
  {
   "cell_type": "code",
   "execution_count": 2,
   "metadata": {},
   "outputs": [
    {
     "name": "stdout",
     "output_type": "stream",
     "text": [
      "X|O|X\n",
      "-----\n",
      "O|X|O\n",
      "-----\n",
      "X|O|X\n"
     ]
    }
   ],
   "source": [
    "#Board looks like\n",
    "\n",
    "test_board = ['#','X','O','X','O','X','O','X','O','X']\n",
    "display_board(test_board)"
   ]
  },
  {
   "cell_type": "code",
   "execution_count": 3,
   "metadata": {},
   "outputs": [],
   "source": [
    "#function that can take in a player input and assign their marker as 'X' or 'O'\n",
    "\n",
    "def player_input():\n",
    "    \n",
    "    marker=''\n",
    "\n",
    "    while marker != 'X' and marker != 'O':\n",
    "        \n",
    "        marker = input('Player 1, Please pick a marker X or O: ')\n",
    "        \n",
    "        if marker == 'X':\n",
    "            return ('X','O')\n",
    "        else:\n",
    "            return ('O','X')\n",
    "            "
   ]
  },
  {
   "cell_type": "code",
   "execution_count": 4,
   "metadata": {},
   "outputs": [
    {
     "name": "stdout",
     "output_type": "stream",
     "text": [
      "Player 1, Please pick a marker X or O: X\n"
     ]
    },
    {
     "data": {
      "text/plain": [
       "('X', 'O')"
      ]
     },
     "execution_count": 4,
     "metadata": {},
     "output_type": "execute_result"
    }
   ],
   "source": [
    "#Test player inputs\n",
    "player_input()"
   ]
  },
  {
   "cell_type": "code",
   "execution_count": 5,
   "metadata": {},
   "outputs": [],
   "source": [
    "#function that takes in the board list object, \n",
    "#a marker ('X' or 'O'), and a desired position (number 1-9)\n",
    "\n",
    "def place_marker(board,marker,position):\n",
    "    \n",
    "    board[position]=marker"
   ]
  },
  {
   "cell_type": "code",
   "execution_count": 6,
   "metadata": {},
   "outputs": [
    {
     "name": "stdout",
     "output_type": "stream",
     "text": [
      "X|O|X\n",
      "-----\n",
      "O|&|O\n",
      "-----\n",
      "X|O|X\n"
     ]
    }
   ],
   "source": [
    "#test new function\n",
    "\n",
    "place_marker(test_board,'&',5)\n",
    "display_board(test_board)"
   ]
  },
  {
   "cell_type": "code",
   "execution_count": 7,
   "metadata": {},
   "outputs": [],
   "source": [
    "#function that takes in a board and checks to see if someone has won.\n",
    "\n",
    "def win_check(board,mark):\n",
    "    \n",
    "    return ((board[1] == board[2] == board[3] == mark) \n",
    "    or (board[4] == board[5] == board[6] == mark)\n",
    "    or (board[7] == board[8] == board[9] == mark) \n",
    "    or (board[1] == board[4] == board[7] == mark) \n",
    "    or (board[2] == board[5] == board[8] == mark) \n",
    "    or (board[3] == board[6] == board[9] == mark) \n",
    "    or (board[1] == board[5] == board[9] == mark)\n",
    "    or (board[7] == board[5] == board[3] == mark))"
   ]
  },
  {
   "cell_type": "code",
   "execution_count": 8,
   "metadata": {},
   "outputs": [
    {
     "data": {
      "text/plain": [
       "False"
      ]
     },
     "execution_count": 8,
     "metadata": {},
     "output_type": "execute_result"
    }
   ],
   "source": [
    "win_check(test_board,'X')"
   ]
  },
  {
   "cell_type": "code",
   "execution_count": 9,
   "metadata": {},
   "outputs": [],
   "source": [
    "#function that uses the random module to randomly decide which player goes first.\n",
    "\n",
    "import random\n",
    "\n",
    "def choose_first():\n",
    "    if random.randint(0, 1) == 0:\n",
    "        return 'Player 2'\n",
    "    else:\n",
    "        return 'Player 1'"
   ]
  },
  {
   "cell_type": "code",
   "execution_count": 10,
   "metadata": {},
   "outputs": [],
   "source": [
    "#function that returns a boolean indicating whether a space on the board is freely available\n",
    "\n",
    "def space_check(board,position):\n",
    "    \n",
    "    return board[position] == ' '\n",
    "        "
   ]
  },
  {
   "cell_type": "code",
   "execution_count": 11,
   "metadata": {},
   "outputs": [
    {
     "data": {
      "text/plain": [
       "False"
      ]
     },
     "execution_count": 11,
     "metadata": {},
     "output_type": "execute_result"
    }
   ],
   "source": [
    "test_board = ['#','X','O','X','A','X','O','X','O','X']\n",
    "space_check(test_board,4)"
   ]
  },
  {
   "cell_type": "code",
   "execution_count": 12,
   "metadata": {},
   "outputs": [],
   "source": [
    "#function that checks if the board is full and returns a boolean value\n",
    "\n",
    "def full_board_check(board):\n",
    "    \n",
    "    for i in range(len(board)):\n",
    "        if board[i] == ' ':\n",
    "            return False\n",
    "    \n",
    "    return True\n"
   ]
  },
  {
   "cell_type": "code",
   "execution_count": 13,
   "metadata": {},
   "outputs": [
    {
     "data": {
      "text/plain": [
       "True"
      ]
     },
     "execution_count": 13,
     "metadata": {},
     "output_type": "execute_result"
    }
   ],
   "source": [
    "full_board_check(test_board)"
   ]
  },
  {
   "cell_type": "code",
   "execution_count": 14,
   "metadata": {},
   "outputs": [],
   "source": [
    "#function that asks for a player's next position (as a number 1-9)\n",
    "\n",
    "def player_choice(board):\n",
    "    \n",
    "    position = 0\n",
    "    \n",
    "    while position not in [1,2,3,4,5,6,7,8,9] or not space_check(board,position):\n",
    "        position = int(input('Please enter a number between 0 and 9: '))\n",
    "    \n",
    "    return position\n",
    "        "
   ]
  },
  {
   "cell_type": "code",
   "execution_count": 19,
   "metadata": {},
   "outputs": [],
   "source": [
    "#asks the player if they want to play again and returns a boolean True \n",
    "#if they do want to play again\n",
    "\n",
    "def replay():\n",
    "    \n",
    "    text = input('Do you want to play again?(Yes or No):  ').lower()\n",
    "    \n",
    "    if text == 'yes':\n",
    "        return True\n",
    "    elif text == 'no':\n",
    "        return False\n",
    "    else:\n",
    "        print('Please enter yes or no')\n",
    "        "
   ]
  },
  {
   "cell_type": "code",
   "execution_count": 20,
   "metadata": {},
   "outputs": [
    {
     "name": "stdout",
     "output_type": "stream",
     "text": [
      "Do you want to play again?(Yes or No):  Yes\n"
     ]
    },
    {
     "data": {
      "text/plain": [
       "True"
      ]
     },
     "execution_count": 20,
     "metadata": {},
     "output_type": "execute_result"
    }
   ],
   "source": [
    "replay()"
   ]
  },
  {
   "cell_type": "code",
   "execution_count": 21,
   "metadata": {},
   "outputs": [
    {
     "name": "stdout",
     "output_type": "stream",
     "text": [
      "X|X|O\n",
      "-----\n",
      "X|O|O\n",
      "-----\n",
      "O|O|X\n",
      "Player 2 WON the game\n",
      "Do you want to play again?(Yes or No):  No\n"
     ]
    }
   ],
   "source": [
    "#Use while loops and the functions you've made to run the game!\n",
    "\n",
    "print('Welcome to Tic Tac Toe!')\n",
    "\n",
    "while True:\n",
    "    # Set the game up here\n",
    "    \n",
    "    #Reset the board\n",
    "    gameboard = [' ']*10\n",
    "    player1_marker, player2_marker = player_input()\n",
    "    turn = choose_first()\n",
    "    \n",
    "    print(turn + 'will go first')\n",
    "    \n",
    "    play_game=input('Are you ready to play game?: ')\n",
    "    \n",
    "    if play_game == 'Yes':\n",
    "        game_on = True\n",
    "    else:\n",
    "        game_on = False\n",
    "\n",
    "    while game_on:\n",
    "        \n",
    "        #Player 1 Turn\n",
    "        if turn == 'Player 1':\n",
    "            \n",
    "            display_board(gameboard)\n",
    "            position = player_choice(gameboard)\n",
    "            place_marker(gameboard,player1_marker,position)\n",
    "            \n",
    "            if win_check(gameboard,player1_marker):\n",
    "                display_board(gameboard)\n",
    "                print('Player 1 WON the game')\n",
    "                game_on = False\n",
    "            else:\n",
    "                if full_board_check(gameboard):\n",
    "                    display_board(gameboard)\n",
    "                    print('Draw!')\n",
    "                    break\n",
    "                else:\n",
    "                    turn = 'Player 2'\n",
    "        \n",
    "        # Player2's turn.\n",
    "        else:\n",
    "            \n",
    "            display_board(gameboard)\n",
    "            position = player_choice(gameboard)\n",
    "            place_marker(gameboard,player2_marker,position)\n",
    "            \n",
    "            if win_check(gameboard,player2_marker):\n",
    "                display_board(gameboard)\n",
    "                print('Player 2 WON the game')\n",
    "                game_on = False\n",
    "            else:\n",
    "                if full_board_check(gameboard):\n",
    "                    display_board(gameboard)\n",
    "                    print('Draw')\n",
    "                    break\n",
    "                else:\n",
    "                    turn = 'Player 1'\n",
    "\n",
    "    if not replay():\n",
    "        break"
   ]
  },
  {
   "cell_type": "code",
   "execution_count": null,
   "metadata": {},
   "outputs": [],
   "source": []
  }
 ],
 "metadata": {
  "kernelspec": {
   "display_name": "Python 3",
   "language": "python",
   "name": "python3"
  },
  "language_info": {
   "codemirror_mode": {
    "name": "ipython",
    "version": 3
   },
   "file_extension": ".py",
   "mimetype": "text/x-python",
   "name": "python",
   "nbconvert_exporter": "python",
   "pygments_lexer": "ipython3",
   "version": "3.7.0"
  }
 },
 "nbformat": 4,
 "nbformat_minor": 2
}
